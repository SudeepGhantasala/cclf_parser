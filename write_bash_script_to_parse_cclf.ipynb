{
 "cells": [
  {
   "cell_type": "code",
   "execution_count": 2,
   "id": "864be5b9",
   "metadata": {},
   "outputs": [],
   "source": [
    "import pandas as pd\n",
    "import os\n",
    "import glob"
   ]
  },
  {
   "cell_type": "code",
   "execution_count": 6,
   "id": "1e25d5e9",
   "metadata": {},
   "outputs": [
    {
     "name": "stdout",
     "output_type": "stream",
     "text": [
      "1\n",
      "check1\n",
      "2\n",
      "3\n",
      "4\n",
      "5\n",
      "6\n",
      "7\n",
      "8\n",
      "9\n",
      "a\n",
      "b\n"
     ]
    }
   ],
   "source": [
    "path = f'/Users/sudeepghantasala/Downloads/march/*'\n",
    "\n",
    "f = open(f\"cclf.sh\", \"w\")\n",
    "f.write('#!/bin/bash\\n ')\n",
    "f.write('chmod u+x cclf.sh\\n ')\n",
    "\n",
    "for file_num in ['1', '2', '3', '4', '5', '6', '7', '8', '9', 'a', 'b']:\n",
    "    print(file_num)\n",
    "    df = pd.read_excel('/Users/sudeepghantasala/Downloads/cclf_files.xlsx', sheet_name = f'cclf_{file_num}')\n",
    "    df.dropna(axis = 1, how = 'all', inplace = True)\n",
    "    \n",
    "    if 'Claim Field Label' in df.columns:\n",
    "        df.drop('Claim Field Label', axis = 1, inplace = True)\n",
    "    elif 'Element Name' in df.columns:\n",
    "        df.drop('Element Name', axis = 1, inplace = True)\n",
    "    elif 'Beneficiary Field Label' in df.columns:\n",
    "        df.drop('Beneficiary Field Label', axis = 1, inplace = True)\n",
    "    else:\n",
    "        print('check' + file_num)\n",
    "\n",
    "    df.rename(columns = {'Data Description' : 'Claim Field Name',\n",
    "                        'Beneficiary Field Name' : 'Claim Field Name'},  inplace = True)\n",
    "    \n",
    "    df = df.loc[df['Element #'] != 'Element #'].reset_index(drop = True)\n",
    "    df = df.loc[df['Element #'] != '8\\nCONTINUED'].reset_index(drop = True)\n",
    "\n",
    "    df['Element #'] = df['Element #'].astype(int)\n",
    "    df['new_end_position'] = df['Element #'] + df['End Position']\n",
    "    df['Claim Field Name'] = df['Claim Field Name'].str.replace('\\n', '-', regex = False)\n",
    "    \n",
    "    f.write('''gsed -i -e \\'''')\n",
    "    for i in df['new_end_position'].iloc[:-1]:\n",
    "        f.write(f's/./&\\,/{i-1};')\n",
    "    f.write('\\' ')\n",
    "\n",
    "    filename = [x for x in glob.glob(path) if f'ZC{file_num.upper()}' in x][0]\n",
    "    f.write(filename)\n",
    "    \n",
    "    f.write('\\n ')\n",
    "\n",
    "\n",
    "    header = 'gsed -ie \\'1i'\n",
    "    for x in list(df['Claim Field Name']):\n",
    "          header = header + \"\\\"\" + x + \"\\\"\" + ','\n",
    "\n",
    "    header = header[:-1]\n",
    "    f.write(header)\n",
    "    f.write('\\' ')\n",
    "    \n",
    "    \n",
    "    filename = [x for x in glob.glob(path) if f'ZC{file_num.upper()}' in x][0]\n",
    "    f.write(filename)\n",
    "\n",
    "    f.write('\\n')\n",
    "\n",
    "f.close()\n"
   ]
  },
  {
   "cell_type": "code",
   "execution_count": null,
   "id": "0b3d9640",
   "metadata": {},
   "outputs": [],
   "source": []
  }
 ],
 "metadata": {
  "kernelspec": {
   "display_name": "Python 3 (ipykernel)",
   "language": "python",
   "name": "python3"
  },
  "language_info": {
   "codemirror_mode": {
    "name": "ipython",
    "version": 3
   },
   "file_extension": ".py",
   "mimetype": "text/x-python",
   "name": "python",
   "nbconvert_exporter": "python",
   "pygments_lexer": "ipython3",
   "version": "3.11.1"
  }
 },
 "nbformat": 4,
 "nbformat_minor": 5
}
